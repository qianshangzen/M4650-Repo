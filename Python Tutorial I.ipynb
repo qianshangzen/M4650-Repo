{
 "cells": [
  {
   "cell_type": "markdown",
   "metadata": {},
   "source": [
    "Conditionals in Python:\n",
    "    \n",
    "    1. No Case statement.\n",
    "    2. if condition:\n",
    "       elif condition:\n",
    "       ....\n",
    "       else:\n",
    "       \n",
    "       All parts of the conditional are indented one space.\n",
    "       \n",
    "# Python Tutorial I\n",
    "\n",
    "## Comparisons and Conditionals\n",
    "\n",
    "### Comparison operators  (LET a=3, b=5)\n",
    "==\tIf the values of two operands are equal, then the condition becomes true.\t(a == b) is not true.\n",
    "\n",
    "!=\tIf values of two operands are not equal, then condition becomes true.\n",
    "\n",
    "<>\tIf values of two operands are not equal, then condition becomes true.\n",
    "\n",
    ">\tIf the value of left operand is greater than the value of right operand, then condition becomes true.\t(a > b) is not true.\n",
    "\n",
    "<\tIf the value of left operand is less than the value of right operand, then condition becomes true.\t(a < b) is true.\n",
    "\n",
    ">=\tIf the value of left operand is greater than or equal to the value of right operand, then condition becomes true.\t(a >= b) is not true.\n",
    "\n",
    "<=\tIf the value of left operand is less than or equal to the value of right operand, then condition becomes true.\t(a <= b) is true.\n",
    "\n",
    "We can us **and** and **or** to combine sets of comparison operators and *not* to negate a statement. \n",
    "\n",
    "Example: \n",
    "if x >= 0 and not(x=2 or x=3):\n",
    "            f=np.pow(x,.5)/((x-2.0)*(x-3.0)\n",
    "         elseif x<0:\n",
    "             print 'Square root of negative number'\n",
    "            f=np.nan\n",
    "         elseif x=2.0:\n",
    "             print 'Division by zero with different limits'\n",
    "             f=np.nan\n",
    "\n",
    "Let's do an example for computing the finite element chapeaux function corresponding to node $x=0$ and mesh parameter = 2."
   ]
  },
  {
   "cell_type": "code",
   "execution_count": null,
   "metadata": {
    "collapsed": true
   },
   "outputs": [],
   "source": [
    "# if x > 1 or x < 1 f(x)=0\n",
    "# elif x<= 0 f(x)=1+x\n",
    "# else f(x)=1-x\n"
   ]
  },
  {
   "cell_type": "markdown",
   "metadata": {},
   "source": [
    "# Looping in Python: For loops\n",
    "\n",
    "**Syntax** \n",
    "```\n",
    "for iterator in list:\n",
    "    #indent for the loop\n",
    "    #do cool stuff in the loop\n",
    "#noindent to close the loop'\n",
    "```\n",
    "The list can be strings, for example:\n",
    "```\n",
    "for string in ('Alpha','Romeo','Sailor','Foxtrot'):\n",
    "    #string takes on values 'Alpha', 'Romeo', etc. in order.\n",
    "    print string\n",
    "```\n",
    "    \n",
    "\n",
    "You will commonly use the **xrange** command to build lists of numbers to iterate on.\n",
    "This is better than **range** for long sets of numbers or if you break the loop earlier.\n",
    "\n",
    "**SYNTAX** \n",
    "```\n",
    "xrange(stop)  #assumes start=0\n",
    "xrange(start, stop[, step])\n",
    "```\n",
    "\n",
    "Note that it **DOES NOT** execute the stop value.\n",
    "\n",
    "Let's  sum the first 20 terms of the geometric series corresponding to $2^{-x}$"
   ]
  },
  {
   "cell_type": "code",
   "execution_count": 1,
   "metadata": {
    "collapsed": false
   },
   "outputs": [
    {
     "name": "stdout",
     "output_type": "stream",
     "text": [
      "Sum= 1.99999809265\n"
     ]
    }
   ],
   "source": [
    "sum=0\n",
    "for n in xrange(0,20): #you need the colon\n",
    "    sum+=2**(-n)  #all the things at the level of the loop get one indent\n",
    "print 'Sum=',sum  #done with the loop variable"
   ]
  },
  {
   "cell_type": "markdown",
   "metadata": {},
   "source": [
    "## Looping in Python: While loops \n",
    "\n",
    "We often use while loops for iterative methods, such as fixed-point iterations. \n",
    "```\n",
    "error=float(1)\n",
    "tol=1E-8\n",
    "while condition    #this condition is true\n",
    "    do something cool\n",
    "    update condition, or use break or continue for loop control\n",
    "#no indent as at end of loop\n",
    "```\n",
    "If the *err > tol* never becomes invalid this will result in an infinite loop, so be careful.\n",
    "\n",
    "You can also exit from any for loop by using **break** to exit the innermost loop, and **continue** to continue to the next iteration of this loop\n",
    "\n",
    "Let's look at an example where we are trying to iterate a logistic equation $x_{n+1}=a*x*(1-x)$ until we arrive at a fixed point:\n",
    "\n"
   ]
  },
  {
   "cell_type": "code",
   "execution_count": 9,
   "metadata": {
    "collapsed": false
   },
   "outputs": [
    {
     "name": "stdout",
     "output_type": "stream",
     "text": [
      "Iterating, X= 0.18\n",
      "Iterating, X= 0.2952\n",
      "Iterating, X= 0.41611392\n",
      "Iterating, X= 0.485926251164\n",
      "Iterating, X= 0.499603859187\n",
      "Iterating, X= 0.499999686145\n",
      "Iterating, X= 0.5\n",
      "Fixed Point= 0.5\n"
     ]
    }
   ],
   "source": [
    "from math import fabs  #absolute value function\n",
    "a=2.0\n",
    "xnew=.1\n",
    "doit=True  #boolean True and False \n",
    "while doit:\n",
    "    xold=xnew\n",
    "    xnew*=a*(1-xnew)\n",
    "    if fabs(xnew-xold) > 1E-8:\n",
    "        print 'Iterating, X=',xnew\n",
    "        continue  #play it again, Sam\n",
    "    else:\n",
    "        break\n",
    "print \"Fixed Point=\",xnew"
   ]
  },
  {
   "cell_type": "markdown",
   "metadata": {},
   "source": [
    "# **Functions in Python**  \n",
    "```\n",
    "def functionname( parameters ):\n",
    "   \"function_docstring\"\n",
    "   function_suite\n",
    "   return [expression]\n",
    "```\n",
    "The quotes is where you put in a documentation string for your function.  It is entirely optional.\n",
    "\n",
    "parameters are normally ordered **UNLESS** you supplement them with keyword args in the function call.  For example:"
   ]
  },
  {
   "cell_type": "code",
   "execution_count": 12,
   "metadata": {
    "collapsed": false
   },
   "outputs": [
    {
     "name": "stdout",
     "output_type": "stream",
     "text": [
      "0\n",
      "0.666666666667\n",
      "1.5\n",
      "1.5\n"
     ]
    }
   ],
   "source": [
    "def myfun(x,y):\n",
    "    return x/y\n",
    "\n",
    "print myfun(2,3)\n",
    "print myfun(2.0,3.0)\n",
    "print myfun(x=3.0,y=2.0)\n",
    "print myfun(x=3,y=2.0)\n",
    "    "
   ]
  },
  {
   "cell_type": "markdown",
   "metadata": {},
   "source": [
    "Obviously Python does not use type-checking for functions, but it allows useful types of polymorphism.\n",
    "\n",
    "Python also allows to set defaults within the parameter list of a function call.  Let's tweak myfun a little.\n",
    "\n",
    "Defaults need to **come after** functions parameters with non-default values."
   ]
  },
  {
   "cell_type": "code",
   "execution_count": 14,
   "metadata": {
    "collapsed": false
   },
   "outputs": [
    {
     "name": "stdout",
     "output_type": "stream",
     "text": [
      "0\n",
      "1.0\n",
      "3\n"
     ]
    }
   ],
   "source": [
    "def myfun2(x=1,y=2):\n",
    "    return x/y\n",
    "\n",
    "print myfun2()\n",
    "print myfun2(2.0)\n",
    "print myfun2(3,1)"
   ]
  },
  {
   "cell_type": "markdown",
   "metadata": {},
   "source": [
    "Can I pass a function to another function: **YES!**\n",
    "\n",
    "Example: secant method"
   ]
  },
  {
   "cell_type": "code",
   "execution_count": 25,
   "metadata": {
    "collapsed": false
   },
   "outputs": [
    {
     "name": "stdout",
     "output_type": "stream",
     "text": [
      "Iteration 1 :X= 0.829936159598\n",
      "Iteration 2 :X= 0.722089183595\n",
      "Iteration 3 :X= 0.508802044989\n",
      "Iteration 4 :X= 0.391682694765\n",
      "Iteration 5 :X= 0.292469384198\n",
      "Iteration 6 :X= 0.221287418032\n",
      "Iteration 7 :X= 0.166720969149\n",
      "Iteration 8 :X= 0.12587236818\n",
      "Iteration 9 :X= 0.0949804851539\n",
      "Iteration 10 :X= 0.0716956855745\n"
     ]
    }
   ],
   "source": [
    "import numpy as np\n",
    "def secant(function,guess=np.array([1.0,2.0]),tolerance=1E-8,max_iter=10):\n",
    "    iter=0\n",
    "    while function(guess[1]) > tolerance and iter < max_iter:\n",
    "        temp=guess[1]-function(guess[1])*(guess[1]-guess[0])/(function(guess[1])-function(guess[0]))\n",
    "        guess=[guess[1],temp]\n",
    "        iter+=1\n",
    "        print 'Iteration', iter,':X=',guess[1]\n",
    "    return guess[1]    \n",
    "\n",
    "def myfunc(x):\n",
    "    from math import sin\n",
    "    return x-sin(x)\n",
    "\n",
    "root=secant(myfunc)"
   ]
  },
  {
   "cell_type": "markdown",
   "metadata": {},
   "source": [
    "## Python is pass by reference OR pass by value\n",
    "\n",
    "###*Pass by reference*\n",
    "This means python passes the reference to the variable, not just the value.  This can cause some different behavior.  Classes, numpy arrays, etc. are passed by reference\n",
    "\n",
    "###*Pass by value* \n",
    "This means python passes the value and creates a new copy within the function. strings, floats, and ints are passed by value\n",
    "\n",
    "Python variables created within a function also have local *scope*."
   ]
  },
  {
   "cell_type": "code",
   "execution_count": 44,
   "metadata": {
    "collapsed": false
   },
   "outputs": [
    {
     "name": "stdout",
     "output_type": "stream",
     "text": [
      "2\n",
      "2\n",
      "[[ 1.  1.]\n",
      " [ 1.  1.]]\n",
      "[[ 2.  2.]\n",
      " [ 2.  2.]]\n",
      "[[ 2.  2.]\n",
      " [ 2.  2.]]\n"
     ]
    }
   ],
   "source": [
    "def tester(var):\n",
    "    var*=2      #if mutable, replaces in place(pass-by-reference)\n",
    "    return\n",
    "\n",
    "def tester2(var):\n",
    "    var=var*2   #if mutable, creates local reference with local scope\n",
    "    return\n",
    "\n",
    "a=2\n",
    "print a\n",
    "tester(a)\n",
    "print a\n",
    "A=np.ones([2,2])\n",
    "print A\n",
    "tester(A)\n",
    "print A\n",
    "tester2(A)\n",
    "print A\n"
   ]
  },
  {
   "cell_type": "markdown",
   "metadata": {},
   "source": [
    "# **Numpy Array Slicing**"
   ]
  },
  {
   "cell_type": "code",
   "execution_count": 30,
   "metadata": {
    "collapsed": false
   },
   "outputs": [
    {
     "name": "stdout",
     "output_type": "stream",
     "text": [
      "[[   1.    1.    1.    1.    1.]\n",
      " [  16.    8.    4.    2.    1.]\n",
      " [  81.   27.    9.    3.    1.]\n",
      " [ 256.   64.   16.    4.    1.]]\n",
      "[   1.   16.   81.  256.]\n",
      "[ 81.  27.   9.   3.   1.]\n"
     ]
    }
   ],
   "source": [
    "#Build the Vandermonde matrix for x=1:4\n",
    "x=np.linspace(1,4,4)\n",
    "A=np.vander(x,5)\n",
    "print A\n",
    "print A[:,0]\n",
    "print A[2,:]"
   ]
  },
  {
   "cell_type": "markdown",
   "metadata": {},
   "source": [
    "Note that unlike Matlab the slicing does not return row or column vectors just row vectors unless you use **reshape** or the None indexing argument (*best*)\n"
   ]
  },
  {
   "cell_type": "code",
   "execution_count": 33,
   "metadata": {
    "collapsed": false
   },
   "outputs": [
    {
     "name": "stdout",
     "output_type": "stream",
     "text": [
      "[[  1.]\n",
      " [  4.]\n",
      " [  9.]\n",
      " [ 16.]]\n"
     ]
    }
   ],
   "source": [
    "print A[:,2,None]"
   ]
  },
  {
   "cell_type": "markdown",
   "metadata": {},
   "source": [
    "If you want a numpy array $A$ to act like a matlab matrix, you can convert it to the *matrix* subclass, a 2D subclass of the *ndarray* type.  Multiplication is changed from **elementwise multiplication** to **matrix multiplication**"
   ]
  },
  {
   "cell_type": "code",
   "execution_count": 38,
   "metadata": {
    "collapsed": false,
    "scrolled": true
   },
   "outputs": [
    {
     "name": "stdout",
     "output_type": "stream",
     "text": [
      "[[  1.00000000e+00   1.00000000e+00   1.00000000e+00   1.00000000e+00\n",
      "    1.00000000e+00]\n",
      " [  2.56000000e+02   6.40000000e+01   1.60000000e+01   4.00000000e+00\n",
      "    1.00000000e+00]\n",
      " [  6.56100000e+03   7.29000000e+02   8.10000000e+01   9.00000000e+00\n",
      "    1.00000000e+00]\n",
      " [  6.55360000e+04   4.09600000e+03   2.56000000e+02   1.60000000e+01\n",
      "    1.00000000e+00]]\n",
      "[[  5.00000000e+00   3.10000000e+01   1.21000000e+02   3.41000000e+02]\n",
      " [  3.10000000e+01   3.41000000e+02   1.55500000e+03   4.68100000e+03]\n",
      " [  1.21000000e+02   1.55500000e+03   7.38100000e+03   2.26210000e+04]\n",
      " [  3.41000000e+02   4.68100000e+03   2.26210000e+04   6.99050000e+04]]\n",
      "[[  5.00000000e+00   3.10000000e+01   1.21000000e+02   3.41000000e+02]\n",
      " [  3.10000000e+01   3.41000000e+02   1.55500000e+03   4.68100000e+03]\n",
      " [  1.21000000e+02   1.55500000e+03   7.38100000e+03   2.26210000e+04]\n",
      " [  3.41000000e+02   4.68100000e+03   2.26210000e+04   6.99050000e+04]]\n"
     ]
    }
   ],
   "source": [
    "print(A*A)\n",
    "B=np.asmatrix(A)\n",
    "#print(B*B)\n",
    "print(B*B.transpose())\n",
    "print B*B.T"
   ]
  },
  {
   "cell_type": "code",
   "execution_count": null,
   "metadata": {
    "collapsed": true
   },
   "outputs": [],
   "source": []
  }
 ],
 "metadata": {
  "kernelspec": {
   "display_name": "Python [Root]",
   "language": "python",
   "name": "Python [Root]"
  },
  "language_info": {
   "codemirror_mode": {
    "name": "ipython",
    "version": 2
   },
   "file_extension": ".py",
   "mimetype": "text/x-python",
   "name": "python",
   "nbconvert_exporter": "python",
   "pygments_lexer": "ipython2",
   "version": "2.7.12"
  }
 },
 "nbformat": 4,
 "nbformat_minor": 0
}
