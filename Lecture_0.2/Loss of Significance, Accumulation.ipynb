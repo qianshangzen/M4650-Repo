{
 "cells": [
  {
   "cell_type": "markdown",
   "metadata": {},
   "source": [
    "In Lecture 2, we saw subtraction of similar numbers could cause problems.  Addition can cause some problems.\n",
    "We create a long array full of .1's"
   ]
  },
  {
   "cell_type": "code",
   "execution_count": 1,
   "metadata": {
    "collapsed": true
   },
   "outputs": [],
   "source": [
    "import numpy as np\n",
    "\n",
    "\n",
    "length=50000000\n",
    "g=np.ones(length)/np.float64(10)"
   ]
  },
  {
   "cell_type": "markdown",
   "metadata": {},
   "source": [
    "Is it really full of .1's?"
   ]
  },
  {
   "cell_type": "code",
   "execution_count": 2,
   "metadata": {
    "collapsed": false
   },
   "outputs": [
    {
     "name": "stdout",
     "output_type": "stream",
     "text": [
      "0.1\n",
      "0.10000000000000001\n",
      "0x1.999999999999ap-4\n"
     ]
    }
   ],
   "source": [
    "print g[0]\n",
    "print repr(g[0])\n",
    "print float.hex(g[0])"
   ]
  },
  {
   "cell_type": "markdown",
   "metadata": {},
   "source": [
    "*print* preformats floats to a specific number of digits; you can change that by doing format statements.  The actual computer number is the second one.  Remember, 1/10 is a **repeating fraction** in binary as it involves powers of 5.\n",
    "\n",
    "Let's add up all the entries of the **g** array"
   ]
  },
  {
   "cell_type": "code",
   "execution_count": 3,
   "metadata": {
    "collapsed": false
   },
   "outputs": [
    {
     "name": "stdout",
     "output_type": "stream",
     "text": [
      "5000000.0\n"
     ]
    }
   ],
   "source": [
    "tot=np.sum(g)\n",
    "print(tot)"
   ]
  },
  {
   "cell_type": "markdown",
   "metadata": {},
   "source": [
    "But Python's \"hiding\" from us again:"
   ]
  },
  {
   "cell_type": "code",
   "execution_count": 4,
   "metadata": {
    "collapsed": false
   },
   "outputs": [
    {
     "name": "stdout",
     "output_type": "stream",
     "text": [
      "Machine Epsilon: 2.22044604925e-16\n",
      "Sum: 5000000.0000005756\n",
      "Relative Error: 1.1511147022247314e-13\n",
      "Stability Constant: 518.4159744\n"
     ]
    }
   ],
   "source": [
    "#Machine Epsilon\n",
    "eps=np.finfo(float).eps\n",
    "print \"Machine Epsilon:\",eps\n",
    "print \"Sum:\",repr(tot)\n",
    "err=np.abs(5000000-tot)/5000000.0\n",
    "print \"Relative Error:\",repr(err)\n",
    "print \"Stability Constant:\",err/eps"
   ]
  },
  {
   "cell_type": "markdown",
   "metadata": {},
   "source": [
    "What about a large sum of random numbers, about the same size?  "
   ]
  },
  {
   "cell_type": "code",
   "execution_count": 5,
   "metadata": {
    "collapsed": false
   },
   "outputs": [
    {
     "name": "stdout",
     "output_type": "stream",
     "text": [
      "Random Sum: 4999664.7160509601\n",
      "True Random Sum 4999664.7160509549735\n",
      "Relative Error: 1.03007182307e-15\n",
      "Stability Constant= 4.63903107853\n"
     ]
    }
   ],
   "source": [
    "nums=.2*np.random.rand(50000000)\n",
    "sum=np.sum(nums)\n",
    "t_sum=np.sum(np.longdouble(nums))\n",
    "print \"Random Sum:\",repr(sum)\n",
    "print \"True Random Sum\",repr(t_sum)\n",
    "err2=abs(sum-t_sum)/t_sum\n",
    "\n",
    "print \"Relative Error:\",err2\n",
    "print \"Stability Constant=\",err2/eps"
   ]
  },
  {
   "cell_type": "markdown",
   "metadata": {},
   "source": [
    "This is the \"good\" type of cancellation-the random numbers are equally likely to be rounded to plus or minus, so the errors grow *VERY* slowly.  We will often see cases where the **worst case error** is much bigger than the **practical** error."
   ]
  },
  {
   "cell_type": "code",
   "execution_count": null,
   "metadata": {
    "collapsed": true
   },
   "outputs": [],
   "source": []
  }
 ],
 "metadata": {
  "kernelspec": {
   "display_name": "Python [Root]",
   "language": "python",
   "name": "Python [Root]"
  },
  "language_info": {
   "codemirror_mode": {
    "name": "ipython",
    "version": 2
   },
   "file_extension": ".py",
   "mimetype": "text/x-python",
   "name": "python",
   "nbconvert_exporter": "python",
   "pygments_lexer": "ipython2",
   "version": "2.7.12"
  }
 },
 "nbformat": 4,
 "nbformat_minor": 0
}
